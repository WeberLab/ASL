{
 "cells": [
  {
   "cell_type": "code",
   "execution_count": 11,
   "metadata": {},
   "outputs": [],
   "source": [
    "import nibabel as nib\n",
    "import numpy as np\n",
    "import nipype.interfaces.fsl as fsl\n",
    "import sys\n",
    "import os.path as path\n",
    "import os"
   ]
  },
  {
   "cell_type": "code",
   "execution_count": null,
   "metadata": {},
   "outputs": [],
   "source": [
    "import nibabel as nib\n",
    "import numpy as np\n",
    "import nipype.interfaces.fsl as fsl\n",
    "import sys\n",
    "import os.path as path\n",
    "\n",
    "def make_cbf(fm0,fpcasl,PLD,SliceDelay,LabelDuration,postfix=\"\"):\n",
    "    #--------------------------------------------------------------------------\n",
    "    ## Parameters needed for the quantification. Most are not present in the\n",
    "    ## DICOM header\n",
    "    #-------------------------------------------------------------------------\n",
    "    Lambda=0.9 #Blood-brain partition coefficient.\n",
    "    T1b=1.65 #T1 of the blood at 3T.\n",
    "    alpha=0.85 # Labeling efficiency for a pCASL sequence.\n",
    "    \n",
    "    # # ACQUISITION PARAMS MUST BE CONFIRMED FOR EACH STUDY\n",
    "    # # MINT PARAMS:\n",
    "    # PLD=1.60 # Post-label delay (seconds) confirmed in ExamCard MJ\n",
    "    # SliceDelay=0.039 #Slice delay. Confirmed on scanner per Guillaume's instructs MJ\n",
    "    # LabelDuration=1.65 #Label duration. (confirmed in ExamCard MJ)\n",
    "    \n",
    "    # Load files\n",
    "    print('Loading image files')\n",
    "    \n",
    "    m0 = nib.parrec.load(fm0,scaling='fp',strict_sort=True) #Ref\n",
    "    pcasl = nib.parrec.load(fpcasl,scaling='fp',strict_sort=True) #"
   ]
  },
  {
   "cell_type": "code",
   "execution_count": 3,
   "metadata": {},
   "outputs": [],
   "source": [
    "Lambda=0.9 #Blood-brain partition coefficient.\n",
    "T1b=1.65 #T1 of the blood at 3T.\n",
    "alpha=0.85 # Labeling efficiency for a pCASL sequence."
   ]
  },
  {
   "cell_type": "code",
   "execution_count": 26,
   "metadata": {},
   "outputs": [],
   "source": [
    "PLD=1.60\n",
    "SliceDelay=0.039\n",
    "LabelDuration=1.65"
   ]
  },
  {
   "cell_type": "code",
   "execution_count": 35,
   "metadata": {},
   "outputs": [],
   "source": [
    "fm0='/home/weberam2/Dropbox/AssistantProf_BCCHRI/Projects/Maven_ASL/pCASL/Mask/MAVEN_05_WIP_Mask_3D_pCASL_REF_P_4_1.PAR'\n",
    "fpcasl='/home/weberam2/Dropbox/AssistantProf_BCCHRI/Projects/Maven_ASL/pCASL/Mask/MAVEN_05_WIP_SOURCE_-_Mask_pCASL_3_2.PAR'\n",
    "\n",
    "m0 = nib.parrec.load(fm0,scaling='fp',strict_sort=True)\n",
    "pcasl = nib.parrec.load(fpcasl,scaling='fp',strict_sort=True)\n",
    "os.chdir('/home/weberam2/Dropbox/AssistantProf_BCCHRI/Projects/Maven_ASL/pCASL/Mask/')"
   ]
  },
  {
   "cell_type": "code",
   "execution_count": 36,
   "metadata": {},
   "outputs": [
    {
     "name": "stdout",
     "output_type": "stream",
     "text": [
      "Computing Scaling Factors\n"
     ]
    }
   ],
   "source": [
    "print('Computing Scaling Factors')\n",
    "\n",
    "if len(set(pcasl.header.image_defs['scale slope'])) > 1:\n",
    "    print('Warning! Multiple scale slope values for asl. Using first')\n",
    "if len(set(pcasl.header.image_defs['rescale slope'])) > 1:\n",
    "    print('Warning! Multiple rescale slope values for asl. Using first')\n",
    "if len(set(pcasl.header.image_defs['rescale intercept'])) > 1:\n",
    "    print('Warning! Multiple rescale intercept values for asl. Using first')\n",
    "if len(set(m0.header.image_defs['scale slope'])) > 1:\n",
    "    print('Warning! Multiple scale slope values for M0. Using first')\n",
    "if len(set(m0.header.image_defs['rescale slope'])) > 1:\n",
    "    print('Warning! Multiple rescale slope values for M0. Using first')\n",
    "if len(set(m0.header.image_defs['rescale intercept'])) > 1:\n",
    "    print('Warning! Multiple rescale intercept values for M0. Using first')"
   ]
  },
  {
   "cell_type": "code",
   "execution_count": 37,
   "metadata": {},
   "outputs": [],
   "source": [
    "m0d = m0.get_fdata()\n",
    "pcasl4d = pcasl.get_fdata()"
   ]
  },
  {
   "cell_type": "code",
   "execution_count": 39,
   "metadata": {},
   "outputs": [
    {
     "name": "stdout",
     "output_type": "stream",
     "text": [
      "realign 4d images\n"
     ]
    }
   ],
   "source": [
    "# save pcasl 4D\n",
    "print('realign 4d images')\n",
    "nii = nib.as_closest_canonical(nib.Nifti1Image(pcasl4d[:,:,:,:], pcasl.affine))\n",
    "nib.save(nii,'asl4d.nii.gz')\n",
    "\n",
    "# realign pcasl 4d\n",
    "realigner = fsl.MCFLIRT()\n",
    "realigner.inputs.in_file='asl4d.nii.gz'\n",
    "result = realigner.run()\n",
    "\n",
    "#reload realigned ASL 4d\n",
    "pcaslr = nib.load(result.outputs.out_file)\n",
    "pcasl4dr = pcaslr.get_fdata()\n"
   ]
  },
  {
   "cell_type": "code",
   "execution_count": 41,
   "metadata": {},
   "outputs": [],
   "source": [
    "# take mean of ASL4d and save\n",
    "print('Registering temporal M0 mean to temporal ASL mean')\n",
    "nii = nib.as_closest_canonical(nib.Nifti1Image(m0d[:,:,:], m0.affine))\n",
    "nib.save(nii,'m0.nii.gz')"
   ]
  },
  {
   "cell_type": "code",
   "execution_count": 40,
   "metadata": {},
   "outputs": [],
   "source": [
    "nii = nib.as_closest_canonical(nib.Nifti1Image(pcasl4dr.mean(3), pcaslr.affine))\n",
    "nib.save(nii,'asl3d.nii.gz')"
   ]
  },
  {
   "cell_type": "code",
   "execution_count": 42,
   "metadata": {},
   "outputs": [],
   "source": [
    "# Register m03d to asl3d\n",
    "flt = fsl.FLIRT()\n",
    "flt.inputs.in_file = 'm0.nii.gz'\n",
    "flt.inputs.reference = 'asl3d.nii.gz'\n",
    "flt.inputs.out_file = 'm0_to_asl3d.nii.gz'\n",
    "flt.inputs.out_matrix_file = 'm0_to_asl3d.mat'\n",
    "result = flt.run()"
   ]
  },
  {
   "cell_type": "code",
   "execution_count": 43,
   "metadata": {},
   "outputs": [],
   "source": [
    "# reload m0 3d registered\n",
    "m0_to_asl3d = nib.load(result.outputs.out_file)\n",
    "m0r = m0_to_asl3d.get_fdata()"
   ]
  },
  {
   "cell_type": "code",
   "execution_count": 44,
   "metadata": {},
   "outputs": [
    {
     "name": "stdout",
     "output_type": "stream",
     "text": [
      "Computing CBF\n"
     ]
    }
   ],
   "source": [
    "# Separate asl data into ref and label\n",
    "print('Computing CBF')\n",
    "asl_label4d = pcasl4dr[:,:,:,0::2]\n",
    "asl_ref4d = pcasl4dr[:,:,:,1::2]\n",
    "\n",
    "# subtract and average\n",
    "asl_sub4d = asl_label4d - asl_ref4d\n",
    "\n",
    "# Zero voxels where either label or ref are zero\n",
    "asl_sub4d[asl_label4d==0] = 0\n",
    "asl_sub4d[asl_ref4d==0] = 0\n",
    "\n",
    "asl_sub3d = asl_sub4d.mean(3)\n",
    "\n",
    "\n"
   ]
  },
  {
   "cell_type": "code",
   "execution_count": 46,
   "metadata": {},
   "outputs": [
    {
     "name": "stdout",
     "output_type": "stream",
     "text": [
      "CBF saved as cbf.nii.gz\n"
     ]
    },
    {
     "name": "stderr",
     "output_type": "stream",
     "text": [
      "<ipython-input-46-8d9fa02a3baf>:7: RuntimeWarning: divide by zero encountered in true_divide\n",
      "  cbf[:,:,k] = cbf_num/cbf_den\n",
      "<ipython-input-46-8d9fa02a3baf>:7: RuntimeWarning: invalid value encountered in true_divide\n",
      "  cbf[:,:,k] = cbf_num/cbf_den\n"
     ]
    }
   ],
   "source": [
    "# Loop over slices and correct for slice delay\n",
    "cbf = np.zeros(asl_sub3d.shape)\n",
    "for k in range(asl_sub3d.shape[2]):\n",
    "    ePLD = PLD+(k*SliceDelay)\n",
    "    cbf_num = 6000*Lambda*asl_sub3d[:,:,k]*np.exp(ePLD/T1b)\n",
    "    cbf_den = 2*alpha*T1b*m0r[:,:,k]*(1-np.exp(-LabelDuration/T1b))\n",
    "    cbf[:,:,k] = cbf_num/cbf_den\n",
    "\n",
    "# Threshold non-physical values (This is OK because GG does it!!)\n",
    "cbf = np.nan_to_num(cbf)\n",
    "cbf[cbf<0] = 0\n",
    "cbf[cbf>300] = 300\n",
    "\n",
    "foutput = 'cbf.nii.gz'\n",
    "cbfnii = nib.Nifti1Image(cbf,pcaslr.affine)\n",
    "nib.save(nib.as_closest_canonical(cbfnii),foutput)\n",
    "print('CBF saved as {}'.format(foutput))\n"
   ]
  },
  {
   "cell_type": "code",
   "execution_count": null,
   "metadata": {},
   "outputs": [],
   "source": []
  }
 ],
 "metadata": {
  "kernelspec": {
   "display_name": "Python 3",
   "language": "python",
   "name": "python3"
  },
  "language_info": {
   "codemirror_mode": {
    "name": "ipython",
    "version": 3
   },
   "file_extension": ".py",
   "mimetype": "text/x-python",
   "name": "python",
   "nbconvert_exporter": "python",
   "pygments_lexer": "ipython3",
   "version": "3.8.5"
  }
 },
 "nbformat": 4,
 "nbformat_minor": 4
}
